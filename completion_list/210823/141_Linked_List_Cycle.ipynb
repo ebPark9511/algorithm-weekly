{
 "cells": [
  {
   "cell_type": "markdown",
   "metadata": {},
   "source": [
    "## [141. Linked List Cycle](https://leetcode.com/problems/linked-list-cycle/)\n",
    "\n",
    "LinkedList의 head인 head가 주어지면 연결 목록에 순환이 있는지 확인합니다.\n",
    "\n",
    "다음 포인터를 계속 따라가서 다시 도달할 수 있는 노드가 목록에 있는 경우 LinkedList에 cycle이 있습니다. \n",
    "\n",
    "내부적으로 `pos`는 `tail`의 다음 포인터가 연결된 노드의 인덱스를 나타내는 데 사용됩니다. `pos`는 매개변수로 전달되지 않습니다.\n",
    "\n",
    "연결 목록에 사이클이 있으면 `true`를 반환합니다. 그렇지 않으면 `false`를 반환합니다\n",
    "\n",
    "제약: \n",
    "목록의 노드 수는 `[0, 10^4]` 범위에 있습니다.\n",
    "`-10^5 <= Node.val <= 10^5`\n",
    "`pos`는 -1이거나 연결 목록에서 유효한 인덱스입니다.\n",
    " \n",
    "\n",
    "후속 조치: O(1)(즉, 상수) 메모리를 사용하여 해결할 수 있습니까?\n"
   ]
  },
  {
   "cell_type": "code",
   "execution_count": 40,
   "metadata": {},
   "outputs": [],
   "source": [
    "# Definition for singly-linked list.\n",
    "class ListNode:\n",
    "    def __init__(self, x):\n",
    "        self.val = x\n",
    "        self.next = None\n",
    "\n",
    "class Solution:\n",
    "    def hasCycle(self, head: ListNode) -> bool:\n",
    "        if head == None:\n",
    "            return False\n",
    "        \n",
    "        node = head\n",
    "        pos = 0 \n",
    "        visited = {node: pos}\n",
    "        \n",
    "        node = node.next\n",
    "        \n",
    "        while node:\n",
    "            if node in visited: # 주의\n",
    "                return True\n",
    "             \n",
    "            pos += 1\n",
    "            visited[node] = pos\n",
    "            node = node.next \n",
    "            \n",
    "            \n",
    "        return False\n",
    "            "
   ]
  },
  {
   "cell_type": "code",
   "execution_count": 43,
   "metadata": {},
   "outputs": [
    {
     "name": "stdout",
     "output_type": "stream",
     "text": [
      "False\n",
      "True\n"
     ]
    }
   ],
   "source": [
    "check_t = {}\n",
    "\n",
    "root = ListNode(0)\n",
    "node = root\n",
    "\n",
    "for i in range(1, 100):\n",
    "    node.next = ListNode(i)\n",
    "    node = node.next\n",
    "    \n",
    "\n",
    "sol = Solution()\n",
    "print(sol.hasCycle(root))\n",
    "\n",
    "node.next = root\n",
    "print(sol.hasCycle(root))\n",
    "\n",
    "    \n",
    "\n"
   ]
  },
  {
   "cell_type": "markdown",
   "metadata": {},
   "source": [
    "간단한 솔루션"
   ]
  },
  {
   "cell_type": "code",
   "execution_count": 37,
   "metadata": {},
   "outputs": [],
   "source": [
    "class Solution:\n",
    "\tdef hasCycle(self, head: ListNode) -> bool:\n",
    "\t\twhile head and head.next:\n",
    "\t\t\tif str(head.val) == \"T\":\n",
    "\t\t\t\treturn True\n",
    "\t\t\thead.val = \"T\"\n",
    "\t\t\thead = head.next\n",
    "\t\treturn False"
   ]
  }
 ],
 "metadata": {
  "kernelspec": {
   "display_name": "Python 3",
   "language": "python",
   "name": "python3"
  },
  "language_info": {
   "codemirror_mode": {
    "name": "ipython",
    "version": 3
   },
   "file_extension": ".py",
   "mimetype": "text/x-python",
   "name": "python",
   "nbconvert_exporter": "python",
   "pygments_lexer": "ipython3",
   "version": "3.7.6"
  }
 },
 "nbformat": 4,
 "nbformat_minor": 4
}
